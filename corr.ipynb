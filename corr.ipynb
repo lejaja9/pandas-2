{
 "cells": [
  {
   "cell_type": "code",
   "execution_count": 1,
   "metadata": {},
   "outputs": [],
   "source": [
    "import pandas as pd\n",
    "import seaborn as sns"
   ]
  },
  {
   "cell_type": "code",
   "execution_count": 2,
   "metadata": {},
   "outputs": [
    {
     "data": {
      "text/html": [
       "<div>\n",
       "<style scoped>\n",
       "    .dataframe tbody tr th:only-of-type {\n",
       "        vertical-align: middle;\n",
       "    }\n",
       "\n",
       "    .dataframe tbody tr th {\n",
       "        vertical-align: top;\n",
       "    }\n",
       "\n",
       "    .dataframe thead th {\n",
       "        text-align: right;\n",
       "    }\n",
       "</style>\n",
       "<table border=\"1\" class=\"dataframe\">\n",
       "  <thead>\n",
       "    <tr style=\"text-align: right;\">\n",
       "      <th></th>\n",
       "      <th>State</th>\n",
       "      <th>Number of Households (in thousands)</th>\n",
       "      <th>Percent of Households who Owned Dogs</th>\n",
       "      <th>Number of Dog-Owning Households (in thousands)</th>\n",
       "      <th>Average Number of Dogs per Household</th>\n",
       "      <th>Dog Population (1000s)</th>\n",
       "    </tr>\n",
       "  </thead>\n",
       "  <tbody>\n",
       "    <tr>\n",
       "      <th>44</th>\n",
       "      <td>Utah</td>\n",
       "      <td>1,014</td>\n",
       "      <td>36.20%</td>\n",
       "      <td>367</td>\n",
       "      <td>1.6</td>\n",
       "      <td>365</td>\n",
       "    </tr>\n",
       "    <tr>\n",
       "      <th>45</th>\n",
       "      <td>Wyoming</td>\n",
       "      <td>240</td>\n",
       "      <td>36%</td>\n",
       "      <td>86</td>\n",
       "      <td>1.7</td>\n",
       "      <td>65</td>\n",
       "    </tr>\n",
       "    <tr>\n",
       "      <th>46</th>\n",
       "      <td>California</td>\n",
       "      <td>13,911</td>\n",
       "      <td>40.10%</td>\n",
       "      <td>5,576</td>\n",
       "      <td>1.6</td>\n",
       "      <td>8,690</td>\n",
       "    </tr>\n",
       "    <tr>\n",
       "      <th>47</th>\n",
       "      <td>Oregon</td>\n",
       "      <td>1,606</td>\n",
       "      <td>37.80%</td>\n",
       "      <td>608</td>\n",
       "      <td>1.6</td>\n",
       "      <td>997</td>\n",
       "    </tr>\n",
       "    <tr>\n",
       "      <th>48</th>\n",
       "      <td>Washington</td>\n",
       "      <td>2,844</td>\n",
       "      <td>42.80%</td>\n",
       "      <td>1,217</td>\n",
       "      <td>1.5</td>\n",
       "      <td>1,846</td>\n",
       "    </tr>\n",
       "  </tbody>\n",
       "</table>\n",
       "</div>"
      ],
      "text/plain": [
       "         State Number of Households (in thousands)  \\\n",
       "44        Utah                               1,014   \n",
       "45     Wyoming                                 240   \n",
       "46  California                              13,911   \n",
       "47      Oregon                               1,606   \n",
       "48  Washington                               2,844   \n",
       "\n",
       "   Percent of Households who Owned Dogs  \\\n",
       "44                               36.20%   \n",
       "45                                  36%   \n",
       "46                               40.10%   \n",
       "47                               37.80%   \n",
       "48                               42.80%   \n",
       "\n",
       "   Number of Dog-Owning Households (in thousands)  \\\n",
       "44                                            367   \n",
       "45                                             86   \n",
       "46                                          5,576   \n",
       "47                                            608   \n",
       "48                                          1,217   \n",
       "\n",
       "    Average Number of Dogs per Household Dog Population (1000s)  \n",
       "44                                   1.6                    365  \n",
       "45                                   1.7                     65  \n",
       "46                                   1.6                  8,690  \n",
       "47                                   1.6                    997  \n",
       "48                                   1.5                  1,846  "
      ]
     },
     "execution_count": 2,
     "metadata": {},
     "output_type": "execute_result"
    }
   ],
   "source": [
    "main_df = pd.read_csv('States_dogs_pandas.csv')[:49]\n",
    "main_df.head()\n",
    "main_df.tail()"
   ]
  },
  {
   "cell_type": "code",
   "execution_count": 3,
   "metadata": {},
   "outputs": [
    {
     "data": {
      "text/html": [
       "<div>\n",
       "<style scoped>\n",
       "    .dataframe tbody tr th:only-of-type {\n",
       "        vertical-align: middle;\n",
       "    }\n",
       "\n",
       "    .dataframe tbody tr th {\n",
       "        vertical-align: top;\n",
       "    }\n",
       "\n",
       "    .dataframe thead th {\n",
       "        text-align: right;\n",
       "    }\n",
       "</style>\n",
       "<table border=\"1\" class=\"dataframe\">\n",
       "  <thead>\n",
       "    <tr style=\"text-align: right;\">\n",
       "      <th></th>\n",
       "      <th>Average Number of Dogs per Household</th>\n",
       "    </tr>\n",
       "  </thead>\n",
       "  <tbody>\n",
       "    <tr>\n",
       "      <th>Average Number of Dogs per Household</th>\n",
       "      <td>1.0</td>\n",
       "    </tr>\n",
       "  </tbody>\n",
       "</table>\n",
       "</div>"
      ],
      "text/plain": [
       "                                      Average Number of Dogs per Household\n",
       "Average Number of Dogs per Household                                   1.0"
      ]
     },
     "execution_count": 3,
     "metadata": {},
     "output_type": "execute_result"
    }
   ],
   "source": [
    "main_df.corr()"
   ]
  },
  {
   "cell_type": "code",
   "execution_count": 4,
   "metadata": {},
   "outputs": [
    {
     "name": "stdout",
     "output_type": "stream",
     "text": [
      "<class 'pandas.core.frame.DataFrame'>\n",
      "RangeIndex: 49 entries, 0 to 48\n",
      "Data columns (total 6 columns):\n",
      " #   Column                                          Non-Null Count  Dtype  \n",
      "---  ------                                          --------------  -----  \n",
      " 0   State                                           49 non-null     object \n",
      " 1   Number of Households (in thousands)             49 non-null     object \n",
      " 2   Percent of Households who Owned Dogs            49 non-null     object \n",
      " 3   Number of Dog-Owning Households (in thousands)  49 non-null     object \n",
      " 4   Average Number of Dogs per Household            49 non-null     float64\n",
      " 5   Dog Population (1000s)                          49 non-null     object \n",
      "dtypes: float64(1), object(5)\n",
      "memory usage: 2.4+ KB\n"
     ]
    }
   ],
   "source": [
    "main_df.info()"
   ]
  },
  {
   "cell_type": "code",
   "execution_count": 5,
   "metadata": {},
   "outputs": [],
   "source": [
    "main_df['Number of Households (in thousands)'] = main_df['Number of Households (in thousands)'].str.replace(',', '').astype(float)"
   ]
  },
  {
   "cell_type": "code",
   "execution_count": 6,
   "metadata": {},
   "outputs": [
    {
     "data": {
      "text/html": [
       "<div>\n",
       "<style scoped>\n",
       "    .dataframe tbody tr th:only-of-type {\n",
       "        vertical-align: middle;\n",
       "    }\n",
       "\n",
       "    .dataframe tbody tr th {\n",
       "        vertical-align: top;\n",
       "    }\n",
       "\n",
       "    .dataframe thead th {\n",
       "        text-align: right;\n",
       "    }\n",
       "</style>\n",
       "<table border=\"1\" class=\"dataframe\">\n",
       "  <thead>\n",
       "    <tr style=\"text-align: right;\">\n",
       "      <th></th>\n",
       "      <th>Number of Households (in thousands)</th>\n",
       "      <th>Average Number of Dogs per Household</th>\n",
       "    </tr>\n",
       "  </thead>\n",
       "  <tbody>\n",
       "    <tr>\n",
       "      <th>Number of Households (in thousands)</th>\n",
       "      <td>1.000000</td>\n",
       "      <td>-0.079952</td>\n",
       "    </tr>\n",
       "    <tr>\n",
       "      <th>Average Number of Dogs per Household</th>\n",
       "      <td>-0.079952</td>\n",
       "      <td>1.000000</td>\n",
       "    </tr>\n",
       "  </tbody>\n",
       "</table>\n",
       "</div>"
      ],
      "text/plain": [
       "                                      Number of Households (in thousands)  \\\n",
       "Number of Households (in thousands)                              1.000000   \n",
       "Average Number of Dogs per Household                            -0.079952   \n",
       "\n",
       "                                      Average Number of Dogs per Household  \n",
       "Number of Households (in thousands)                              -0.079952  \n",
       "Average Number of Dogs per Household                              1.000000  "
      ]
     },
     "execution_count": 6,
     "metadata": {},
     "output_type": "execute_result"
    }
   ],
   "source": [
    "main_df.corr()"
   ]
  },
  {
   "cell_type": "code",
   "execution_count": 7,
   "metadata": {},
   "outputs": [
    {
     "name": "stdout",
     "output_type": "stream",
     "text": [
      "<class 'pandas.core.frame.DataFrame'>\n",
      "RangeIndex: 49 entries, 0 to 48\n",
      "Data columns (total 6 columns):\n",
      " #   Column                                          Non-Null Count  Dtype  \n",
      "---  ------                                          --------------  -----  \n",
      " 0   State                                           49 non-null     object \n",
      " 1   Number of Households (in thousands)             49 non-null     float64\n",
      " 2   Percent of Households who Owned Dogs            49 non-null     object \n",
      " 3   Number of Dog-Owning Households (in thousands)  49 non-null     object \n",
      " 4   Average Number of Dogs per Household            49 non-null     float64\n",
      " 5   Dog Population (1000s)                          49 non-null     object \n",
      "dtypes: float64(2), object(4)\n",
      "memory usage: 2.4+ KB\n"
     ]
    }
   ],
   "source": [
    "main_df.info()"
   ]
  },
  {
   "cell_type": "code",
   "execution_count": 8,
   "metadata": {},
   "outputs": [
    {
     "name": "stdout",
     "output_type": "stream",
     "text": [
      "<class 'pandas.core.frame.DataFrame'>\n",
      "RangeIndex: 49 entries, 0 to 48\n",
      "Data columns (total 6 columns):\n",
      " #   Column                                          Non-Null Count  Dtype  \n",
      "---  ------                                          --------------  -----  \n",
      " 0   State                                           49 non-null     object \n",
      " 1   Number of Households (in thousands)             49 non-null     float64\n",
      " 2   Percent of Households who Owned Dogs            49 non-null     object \n",
      " 3   Number of Dog-Owning Households (in thousands)  49 non-null     object \n",
      " 4   Average Number of Dogs per Household            49 non-null     float64\n",
      " 5   Dog Population (1000s)                          49 non-null     object \n",
      "dtypes: float64(2), object(4)\n",
      "memory usage: 2.4+ KB\n"
     ]
    }
   ],
   "source": [
    "main_df.info()"
   ]
  },
  {
   "cell_type": "code",
   "execution_count": 9,
   "metadata": {},
   "outputs": [],
   "source": [
    "main_df['Number of Dog-Owning Households (in thousands)'] = main_df['Number of Dog-Owning Households (in thousands)'].str.replace(',', '').astype(float)\n",
    "main_df['Dog Population (1000s)'] = main_df['Dog Population (1000s)'].str.replace(',', '').astype(float)"
   ]
  },
  {
   "cell_type": "code",
   "execution_count": 10,
   "metadata": {},
   "outputs": [
    {
     "name": "stdout",
     "output_type": "stream",
     "text": [
      "<class 'pandas.core.frame.DataFrame'>\n",
      "RangeIndex: 49 entries, 0 to 48\n",
      "Data columns (total 6 columns):\n",
      " #   Column                                          Non-Null Count  Dtype  \n",
      "---  ------                                          --------------  -----  \n",
      " 0   State                                           49 non-null     object \n",
      " 1   Number of Households (in thousands)             49 non-null     float64\n",
      " 2   Percent of Households who Owned Dogs            49 non-null     object \n",
      " 3   Number of Dog-Owning Households (in thousands)  49 non-null     float64\n",
      " 4   Average Number of Dogs per Household            49 non-null     float64\n",
      " 5   Dog Population (1000s)                          49 non-null     float64\n",
      "dtypes: float64(4), object(2)\n",
      "memory usage: 2.4+ KB\n"
     ]
    }
   ],
   "source": [
    "main_df.info()"
   ]
  },
  {
   "cell_type": "code",
   "execution_count": 11,
   "metadata": {},
   "outputs": [],
   "source": [
    "main_df['Percent of Households who Owned Dogs'] = main_df['Percent of Households who Owned Dogs'].str.rstrip('%').astype('float') / 100.0"
   ]
  },
  {
   "cell_type": "code",
   "execution_count": 12,
   "metadata": {},
   "outputs": [
    {
     "data": {
      "text/html": [
       "<div>\n",
       "<style scoped>\n",
       "    .dataframe tbody tr th:only-of-type {\n",
       "        vertical-align: middle;\n",
       "    }\n",
       "\n",
       "    .dataframe tbody tr th {\n",
       "        vertical-align: top;\n",
       "    }\n",
       "\n",
       "    .dataframe thead th {\n",
       "        text-align: right;\n",
       "    }\n",
       "</style>\n",
       "<table border=\"1\" class=\"dataframe\">\n",
       "  <thead>\n",
       "    <tr style=\"text-align: right;\">\n",
       "      <th></th>\n",
       "      <th>Number of Households (in thousands)</th>\n",
       "      <th>Percent of Households who Owned Dogs</th>\n",
       "      <th>Number of Dog-Owning Households (in thousands)</th>\n",
       "      <th>Average Number of Dogs per Household</th>\n",
       "      <th>Dog Population (1000s)</th>\n",
       "    </tr>\n",
       "  </thead>\n",
       "  <tbody>\n",
       "    <tr>\n",
       "      <th>Number of Households (in thousands)</th>\n",
       "      <td>1.000000</td>\n",
       "      <td>-0.037280</td>\n",
       "      <td>0.981386</td>\n",
       "      <td>-0.079952</td>\n",
       "      <td>0.960635</td>\n",
       "    </tr>\n",
       "    <tr>\n",
       "      <th>Percent of Households who Owned Dogs</th>\n",
       "      <td>-0.037280</td>\n",
       "      <td>1.000000</td>\n",
       "      <td>0.091135</td>\n",
       "      <td>0.726409</td>\n",
       "      <td>0.049776</td>\n",
       "    </tr>\n",
       "    <tr>\n",
       "      <th>Number of Dog-Owning Households (in thousands)</th>\n",
       "      <td>0.981386</td>\n",
       "      <td>0.091135</td>\n",
       "      <td>1.000000</td>\n",
       "      <td>0.004821</td>\n",
       "      <td>0.980173</td>\n",
       "    </tr>\n",
       "    <tr>\n",
       "      <th>Average Number of Dogs per Household</th>\n",
       "      <td>-0.079952</td>\n",
       "      <td>0.726409</td>\n",
       "      <td>0.004821</td>\n",
       "      <td>1.000000</td>\n",
       "      <td>-0.031295</td>\n",
       "    </tr>\n",
       "    <tr>\n",
       "      <th>Dog Population (1000s)</th>\n",
       "      <td>0.960635</td>\n",
       "      <td>0.049776</td>\n",
       "      <td>0.980173</td>\n",
       "      <td>-0.031295</td>\n",
       "      <td>1.000000</td>\n",
       "    </tr>\n",
       "  </tbody>\n",
       "</table>\n",
       "</div>"
      ],
      "text/plain": [
       "                                                Number of Households (in thousands)  \\\n",
       "Number of Households (in thousands)                                        1.000000   \n",
       "Percent of Households who Owned Dogs                                      -0.037280   \n",
       "Number of Dog-Owning Households (in thousands)                             0.981386   \n",
       "Average Number of Dogs per Household                                      -0.079952   \n",
       "Dog Population (1000s)                                                     0.960635   \n",
       "\n",
       "                                                Percent of Households who Owned Dogs  \\\n",
       "Number of Households (in thousands)                                        -0.037280   \n",
       "Percent of Households who Owned Dogs                                        1.000000   \n",
       "Number of Dog-Owning Households (in thousands)                              0.091135   \n",
       "Average Number of Dogs per Household                                        0.726409   \n",
       "Dog Population (1000s)                                                      0.049776   \n",
       "\n",
       "                                                Number of Dog-Owning Households (in thousands)  \\\n",
       "Number of Households (in thousands)                                                   0.981386   \n",
       "Percent of Households who Owned Dogs                                                  0.091135   \n",
       "Number of Dog-Owning Households (in thousands)                                        1.000000   \n",
       "Average Number of Dogs per Household                                                  0.004821   \n",
       "Dog Population (1000s)                                                                0.980173   \n",
       "\n",
       "                                                Average Number of Dogs per Household  \\\n",
       "Number of Households (in thousands)                                        -0.079952   \n",
       "Percent of Households who Owned Dogs                                        0.726409   \n",
       "Number of Dog-Owning Households (in thousands)                              0.004821   \n",
       "Average Number of Dogs per Household                                        1.000000   \n",
       "Dog Population (1000s)                                                     -0.031295   \n",
       "\n",
       "                                                Dog Population (1000s)  \n",
       "Number of Households (in thousands)                           0.960635  \n",
       "Percent of Households who Owned Dogs                          0.049776  \n",
       "Number of Dog-Owning Households (in thousands)                0.980173  \n",
       "Average Number of Dogs per Household                         -0.031295  \n",
       "Dog Population (1000s)                                        1.000000  "
      ]
     },
     "execution_count": 12,
     "metadata": {},
     "output_type": "execute_result"
    }
   ],
   "source": [
    "main_df.corr()"
   ]
  },
  {
   "cell_type": "code",
   "execution_count": 13,
   "metadata": {},
   "outputs": [
    {
     "data": {
      "text/plain": [
       "<AxesSubplot:xlabel='Number of Households (in thousands)', ylabel='Dog Population (1000s)'>"
      ]
     },
     "execution_count": 13,
     "metadata": {},
     "output_type": "execute_result"
    },
    {
     "data": {
      "image/png": "[encoded data removed]",
      "text/plain": [
       "<Figure size 432x288 with 1 Axes>"
      ]
     },
     "metadata": {
      "needs_background": "light"
     },
     "output_type": "display_data"
    }
   ],
   "source": [
    "main_df.plot.scatter(x = 'Number of Households (in thousands)', y = 'Dog Population (1000s)')"
   ]
  },
  {
   "cell_type": "code",
   "execution_count": 14,
   "metadata": {},
   "outputs": [
    {
     "data": {
      "text/plain": [
       "<AxesSubplot:>"
      ]
     },
     "execution_count": 14,
     "metadata": {},
     "output_type": "execute_result"
    },
    {
     "data": {
      "image/png": "[encoded data removed]",
      "text/plain": [
       "<Figure size 432x288 with 2 Axes>"
      ]
     },
     "metadata": {
      "needs_background": "light"
     },
     "output_type": "display_data"
    }
   ],
   "source": [
    "corr_matrix1 = main_df.corr()\n",
    "sns.heatmap(corr_matrix1, cmap=\"Blues\", annot=True)"
   ]
  },
  {
   "cell_type": "code",
   "execution_count": 15,
   "metadata": {},
   "outputs": [
    {
     "data": {
      "text/html": [
       "<div>\n",
       "<style scoped>\n",
       "    .dataframe tbody tr th:only-of-type {\n",
       "        vertical-align: middle;\n",
       "    }\n",
       "\n",
       "    .dataframe tbody tr th {\n",
       "        vertical-align: top;\n",
       "    }\n",
       "\n",
       "    .dataframe thead th {\n",
       "        text-align: right;\n",
       "    }\n",
       "</style>\n",
       "<table border=\"1\" class=\"dataframe\">\n",
       "  <thead>\n",
       "    <tr style=\"text-align: right;\">\n",
       "      <th></th>\n",
       "      <th>State</th>\n",
       "      <th>Number of Households (in thousands)</th>\n",
       "      <th>Percent of Households who Owned Dogs</th>\n",
       "      <th>Number of Dog-Owning Households (in thousands)</th>\n",
       "      <th>Average Number of Dogs per Household</th>\n",
       "      <th>Dog Population (1000s)</th>\n",
       "    </tr>\n",
       "  </thead>\n",
       "  <tbody>\n",
       "    <tr>\n",
       "      <th>0</th>\n",
       "      <td>Connecticut</td>\n",
       "      <td>1430.0</td>\n",
       "      <td>0.240</td>\n",
       "      <td>344.0</td>\n",
       "      <td>1.4</td>\n",
       "      <td>466.0</td>\n",
       "    </tr>\n",
       "    <tr>\n",
       "      <th>1</th>\n",
       "      <td>Maine</td>\n",
       "      <td>606.0</td>\n",
       "      <td>0.359</td>\n",
       "      <td>218.0</td>\n",
       "      <td>1.5</td>\n",
       "      <td>324.0</td>\n",
       "    </tr>\n",
       "    <tr>\n",
       "      <th>2</th>\n",
       "      <td>Massachusetts</td>\n",
       "      <td>2714.0</td>\n",
       "      <td>0.289</td>\n",
       "      <td>783.0</td>\n",
       "      <td>1.4</td>\n",
       "      <td>1096.0</td>\n",
       "    </tr>\n",
       "    <tr>\n",
       "      <th>3</th>\n",
       "      <td>New Hampshire</td>\n",
       "      <td>502.0</td>\n",
       "      <td>0.237</td>\n",
       "      <td>119.0</td>\n",
       "      <td>1.4</td>\n",
       "      <td>165.0</td>\n",
       "    </tr>\n",
       "    <tr>\n",
       "      <th>4</th>\n",
       "      <td>Rhode Island</td>\n",
       "      <td>450.0</td>\n",
       "      <td>0.258</td>\n",
       "      <td>116.0</td>\n",
       "      <td>1.4</td>\n",
       "      <td>167.0</td>\n",
       "    </tr>\n",
       "  </tbody>\n",
       "</table>\n",
       "</div>"
      ],
      "text/plain": [
       "           State  Number of Households (in thousands)  \\\n",
       "0    Connecticut                               1430.0   \n",
       "1          Maine                                606.0   \n",
       "2  Massachusetts                               2714.0   \n",
       "3  New Hampshire                                502.0   \n",
       "4   Rhode Island                                450.0   \n",
       "\n",
       "   Percent of Households who Owned Dogs  \\\n",
       "0                                 0.240   \n",
       "1                                 0.359   \n",
       "2                                 0.289   \n",
       "3                                 0.237   \n",
       "4                                 0.258   \n",
       "\n",
       "   Number of Dog-Owning Households (in thousands)  \\\n",
       "0                                           344.0   \n",
       "1                                           218.0   \n",
       "2                                           783.0   \n",
       "3                                           119.0   \n",
       "4                                           116.0   \n",
       "\n",
       "   Average Number of Dogs per Household  Dog Population (1000s)  \n",
       "0                                   1.4                   466.0  \n",
       "1                                   1.5                   324.0  \n",
       "2                                   1.4                  1096.0  \n",
       "3                                   1.4                   165.0  \n",
       "4                                   1.4                   167.0  "
      ]
     },
     "execution_count": 15,
     "metadata": {},
     "output_type": "execute_result"
    }
   ],
   "source": [
    "main_df.head()"
   ]
  }
 ],
 "metadata": {
  "interpreter": {
   "hash": "871432909e13f0a6494aa10da24d4de1217f60734bfcbcfb1b51b488c0215f0c"
  },
  "kernelspec": {
   "display_name": "Python 3.8.12 64-bit ('pandas-2': conda)",
   "name": "python3"
  },
  "language_info": {
   "codemirror_mode": {
    "name": "ipython",
    "version": 3
   },
   "file_extension": ".py",
   "mimetype": "text/x-python",
   "name": "python",
   "nbconvert_exporter": "python",
   "pygments_lexer": "ipython3",
   "version": "3.8.12"
  },
  "orig_nbformat": 4
 },
 "nbformat": 4,
 "nbformat_minor": 2
}
